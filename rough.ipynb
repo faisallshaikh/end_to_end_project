{
 "cells": [
  {
   "cell_type": "code",
   "execution_count": 1,
   "metadata": {},
   "outputs": [
    {
     "data": {
      "text/plain": [
       "4"
      ]
     },
     "execution_count": 1,
     "metadata": {},
     "output_type": "execute_result"
    }
   ],
   "source": [
    "2+2"
   ]
  },
  {
   "cell_type": "code",
   "execution_count": 2,
   "metadata": {},
   "outputs": [
    {
     "data": {
      "text/plain": [
       "'d:\\\\Faisal\\\\Projects\\\\e_t_e_pro'"
      ]
     },
     "execution_count": 2,
     "metadata": {},
     "output_type": "execute_result"
    }
   ],
   "source": [
    "import os\n",
    "os.getcwd()"
   ]
  },
  {
   "cell_type": "code",
   "execution_count": null,
   "metadata": {},
   "outputs": [],
   "source": [
    "for file in list_of_components:\n",
    "\n",
    "    filepath = dir_file + file\n",
    "    whole_path = Path(filepath) \n",
    "    dir_path, file_name = os.path.split(whole_path)\n",
    "\n",
    "    os.makedirs(dir_path,exist_ok=True)\n",
    "\n",
    "    if os.path.exists(filepath):\n",
    "        pass\n",
    "\n",
    "    if (not os.path.exists(filepath)):\n",
    "        with open(filepath, 'w') as f:\n",
    "            pass"
   ]
  },
  {
   "cell_type": "code",
   "execution_count": 3,
   "metadata": {},
   "outputs": [],
   "source": [
    "with open(\"fff.txt\", 'w') as f:\n",
    "    f1 = f.write(\"This is 1 \\nThis is 2\")"
   ]
  },
  {
   "cell_type": "code",
   "execution_count": 7,
   "metadata": {},
   "outputs": [
    {
     "name": "stdout",
     "output_type": "stream",
     "text": [
      "['This is 1 \\n', 'This is 2']\n"
     ]
    }
   ],
   "source": [
    "with open(\"fff.txt\", 'r') as ff:\n",
    "    fr = ff.readlines()\n",
    "    print(fr)"
   ]
  },
  {
   "cell_type": "code",
   "execution_count": 10,
   "metadata": {},
   "outputs": [
    {
     "name": "stdout",
     "output_type": "stream",
     "text": [
      "d:\\Faisal\\Projects\\e_t_e_pro\\myenv_end\n",
      "d:\\Faisal\\Projects\\e_t_e_pro\\myenv_end\\Library\\mingw-w64\\bin\n",
      "d:\\Faisal\\Projects\\e_t_e_pro\\myenv_end\\Library\\usr\\bin\n",
      "d:\\Faisal\\Projects\\e_t_e_pro\\myenv_end\\Library\\bin\n",
      "d:\\Faisal\\Projects\\e_t_e_pro\\myenv_end\\Scripts\n",
      "d:\\Faisal\\Projects\\e_t_e_pro\\myenv_end\\bin\n",
      "C:\\Windows\\system32\n",
      "C:\\Windows\n",
      "C:\\Windows\\System32\\Wbem\n",
      "C:\\Windows\\System32\\WindowsPowerShell\\v1.0\n",
      "C:\\Windows\\System32\\OpenSSH\n",
      "C:\\Program Files (x86)\\NVIDIA Corporation\\PhysX\\Common\n",
      "C:\\Program Files\\NVIDIA Corporation\\NVIDIA NvDLISR\n",
      "C:\\WINDOWS\\system32\n",
      "C:\\WINDOWS\n",
      "C:\\WINDOWS\\System32\\Wbem\n",
      "C:\\WINDOWS\\System32\\WindowsPowerShell\\v1.0\n",
      "C:\\WINDOWS\\System32\\OpenSSH\n",
      "C:\\Program Files\\Git\\cmd\n",
      "C:\\Anaconda\\package\\condabin\n",
      "C:\\Program Files\\MySQL\\MySQL Shell 8.0\\bin\n",
      "C:\\Users\\solat\\AppData\\Local\\Programs\\Python\\Python311\n",
      "C:\\Users\\solat\\AppData\\Local\\Microsoft\\WindowsApps\n",
      "C:\\Anaconda\\package\\condabin\n",
      ".\n"
     ]
    },
    {
     "data": {
      "text/plain": [
       "[None,\n",
       " None,\n",
       " None,\n",
       " None,\n",
       " None,\n",
       " None,\n",
       " None,\n",
       " None,\n",
       " None,\n",
       " None,\n",
       " None,\n",
       " None,\n",
       " None,\n",
       " None,\n",
       " None,\n",
       " None,\n",
       " None,\n",
       " None,\n",
       " None,\n",
       " None,\n",
       " None,\n",
       " None,\n",
       " None,\n",
       " None,\n",
       " None]"
      ]
     },
     "execution_count": 10,
     "metadata": {},
     "output_type": "execute_result"
    }
   ],
   "source": [
    "import os\n",
    "[print(p) for p in os.environ['PATH'].split(';')]"
   ]
  },
  {
   "cell_type": "code",
   "execution_count": 13,
   "metadata": {},
   "outputs": [
    {
     "name": "stdout",
     "output_type": "stream",
     "text": [
      "Requirement already satisfied: pandas in d:\\faisal\\projects\\e_t_e_pro\\myenv_end\\lib\\site-packages\\pandas-2.1.2-py3.9-win-amd64.egg (2.1.2)\n",
      "Requirement already satisfied: numpy<2,>=1.22.4 in d:\\faisal\\projects\\e_t_e_pro\\myenv_end\\lib\\site-packages\\numpy-1.26.1-py3.9-win-amd64.egg (from pandas) (1.26.1)\n",
      "Requirement already satisfied: python-dateutil>=2.8.2 in d:\\faisal\\projects\\e_t_e_pro\\myenv_end\\lib\\site-packages (from pandas) (2.8.2)\n",
      "Requirement already satisfied: pytz>=2020.1 in d:\\faisal\\projects\\e_t_e_pro\\myenv_end\\lib\\site-packages\\pytz-2023.3.post1-py3.9.egg (from pandas) (2023.3.post1)\n",
      "Requirement already satisfied: tzdata>=2022.1 in d:\\faisal\\projects\\e_t_e_pro\\myenv_end\\lib\\site-packages\\tzdata-2023.3-py3.9.egg (from pandas) (2023.3)\n",
      "Requirement already satisfied: six>=1.5 in d:\\faisal\\projects\\e_t_e_pro\\myenv_end\\lib\\site-packages (from python-dateutil>=2.8.2->pandas) (1.16.0)\n"
     ]
    }
   ],
   "source": [
    "! pip install pandas"
   ]
  },
  {
   "cell_type": "code",
   "execution_count": 1,
   "metadata": {},
   "outputs": [
    {
     "name": "stderr",
     "output_type": "stream",
     "text": [
      "C:\\Users\\solat\\AppData\\Local\\Temp\\ipykernel_25536\\14503556.py:17: UserWarning: pandas only supports SQLAlchemy connectable (engine/connection) or database string URI or sqlite3 DBAPI2 connection. Other DBAPI2 objects are not tested. Please consider using SQLAlchemy.\n",
      "  df = pd.read_sql_query(\"select * from anime_characters\", mydb)\n"
     ]
    },
    {
     "data": {
      "text/html": [
       "<div>\n",
       "<style scoped>\n",
       "    .dataframe tbody tr th:only-of-type {\n",
       "        vertical-align: middle;\n",
       "    }\n",
       "\n",
       "    .dataframe tbody tr th {\n",
       "        vertical-align: top;\n",
       "    }\n",
       "\n",
       "    .dataframe thead th {\n",
       "        text-align: right;\n",
       "    }\n",
       "</style>\n",
       "<table border=\"1\" class=\"dataframe\">\n",
       "  <thead>\n",
       "    <tr style=\"text-align: right;\">\n",
       "      <th></th>\n",
       "      <th>name</th>\n",
       "      <th>power</th>\n",
       "      <th>anime</th>\n",
       "    </tr>\n",
       "  </thead>\n",
       "  <tbody>\n",
       "    <tr>\n",
       "      <th>0</th>\n",
       "      <td>goku</td>\n",
       "      <td>MUI</td>\n",
       "      <td>DBZ</td>\n",
       "    </tr>\n",
       "    <tr>\n",
       "      <th>1</th>\n",
       "      <td>gohan</td>\n",
       "      <td>beast</td>\n",
       "      <td>DBZ</td>\n",
       "    </tr>\n",
       "    <tr>\n",
       "      <th>2</th>\n",
       "      <td>vegeta</td>\n",
       "      <td>super saiyan blue</td>\n",
       "      <td>DBZ</td>\n",
       "    </tr>\n",
       "    <tr>\n",
       "      <th>3</th>\n",
       "      <td>eren</td>\n",
       "      <td>titan</td>\n",
       "      <td>AOT</td>\n",
       "    </tr>\n",
       "    <tr>\n",
       "      <th>4</th>\n",
       "      <td>naruto</td>\n",
       "      <td>nine tails</td>\n",
       "      <td>UZUMAKI</td>\n",
       "    </tr>\n",
       "    <tr>\n",
       "      <th>5</th>\n",
       "      <td>sasuke</td>\n",
       "      <td>sharingan</td>\n",
       "      <td>UCHIHA</td>\n",
       "    </tr>\n",
       "  </tbody>\n",
       "</table>\n",
       "</div>"
      ],
      "text/plain": [
       "     name              power    anime\n",
       "0    goku                MUI      DBZ\n",
       "1   gohan              beast      DBZ\n",
       "2  vegeta  super saiyan blue      DBZ\n",
       "3    eren              titan      AOT\n",
       "4  naruto         nine tails  UZUMAKI\n",
       "5  sasuke          sharingan   UCHIHA"
      ]
     },
     "execution_count": 1,
     "metadata": {},
     "output_type": "execute_result"
    }
   ],
   "source": [
    "import pandas as pd\n",
    "\n",
    "import mysql.connector as conn\n",
    "def gg():\n",
    "    mydb = conn.connect(\n",
    "        host = \"localhost\",\n",
    "        user = \"root\",\n",
    "        password = \"mysqlone1@@@*\",\n",
    "        database = \"anime\"\n",
    "        )\n",
    "\n",
    "\n",
    "    # cur = mydb.cursor()\n",
    "    # cur.execute(\"select * from anime_characters\")\n",
    "    # a = cur.fetchall()\n",
    "    # return a \n",
    "    df = pd.read_sql_query(\"select * from anime_characters\", mydb)\n",
    "    return df\n",
    "\n",
    "gg()"
   ]
  },
  {
   "cell_type": "code",
   "execution_count": 3,
   "metadata": {},
   "outputs": [
    {
     "name": "stderr",
     "output_type": "stream",
     "text": [
      "C:\\Users\\solat\\AppData\\Local\\Temp\\ipykernel_25536\\14503556.py:17: UserWarning: pandas only supports SQLAlchemy connectable (engine/connection) or database string URI or sqlite3 DBAPI2 connection. Other DBAPI2 objects are not tested. Please consider using SQLAlchemy.\n",
      "  df = pd.read_sql_query(\"select * from anime_characters\", mydb)\n"
     ]
    },
    {
     "data": {
      "text/plain": [
       "pandas.core.frame.DataFrame"
      ]
     },
     "execution_count": 3,
     "metadata": {},
     "output_type": "execute_result"
    }
   ],
   "source": [
    "dff = gg()\n",
    "type(dff)"
   ]
  },
  {
   "cell_type": "code",
   "execution_count": 15,
   "metadata": {},
   "outputs": [
    {
     "data": {
      "text/html": [
       "<div>\n",
       "<style scoped>\n",
       "    .dataframe tbody tr th:only-of-type {\n",
       "        vertical-align: middle;\n",
       "    }\n",
       "\n",
       "    .dataframe tbody tr th {\n",
       "        vertical-align: top;\n",
       "    }\n",
       "\n",
       "    .dataframe thead th {\n",
       "        text-align: right;\n",
       "    }\n",
       "</style>\n",
       "<table border=\"1\" class=\"dataframe\">\n",
       "  <thead>\n",
       "    <tr style=\"text-align: right;\">\n",
       "      <th></th>\n",
       "      <th>name</th>\n",
       "      <th>power</th>\n",
       "      <th>anime</th>\n",
       "    </tr>\n",
       "  </thead>\n",
       "  <tbody>\n",
       "    <tr>\n",
       "      <th>1</th>\n",
       "      <td>gohan</td>\n",
       "      <td>beast</td>\n",
       "      <td>DBZ</td>\n",
       "    </tr>\n",
       "    <tr>\n",
       "      <th>4</th>\n",
       "      <td>naruto</td>\n",
       "      <td>nine tails</td>\n",
       "      <td>UZUMAKI</td>\n",
       "    </tr>\n",
       "    <tr>\n",
       "      <th>0</th>\n",
       "      <td>goku</td>\n",
       "      <td>MUI</td>\n",
       "      <td>DBZ</td>\n",
       "    </tr>\n",
       "    <tr>\n",
       "      <th>3</th>\n",
       "      <td>eren</td>\n",
       "      <td>titan</td>\n",
       "      <td>AOT</td>\n",
       "    </tr>\n",
       "    <tr>\n",
       "      <th>5</th>\n",
       "      <td>sasuke</td>\n",
       "      <td>sharingan</td>\n",
       "      <td>UCHIHA</td>\n",
       "    </tr>\n",
       "  </tbody>\n",
       "</table>\n",
       "</div>"
      ],
      "text/plain": [
       "     name       power    anime\n",
       "1   gohan       beast      DBZ\n",
       "4  naruto  nine tails  UZUMAKI\n",
       "0    goku         MUI      DBZ\n",
       "3    eren       titan      AOT\n",
       "5  sasuke   sharingan   UCHIHA"
      ]
     },
     "execution_count": 15,
     "metadata": {},
     "output_type": "execute_result"
    }
   ],
   "source": [
    "from sklearn.model_selection import train_test_split\n",
    "xtrain, xtest = train_test_split(dff,test_size=0.1,random_state=1)\n",
    "xtrain\n"
   ]
  },
  {
   "cell_type": "code",
   "execution_count": 16,
   "metadata": {},
   "outputs": [],
   "source": [
    "# xtrain.to_csv(\"cccvvv.csv\")"
   ]
  },
  {
   "cell_type": "code",
   "execution_count": 1,
   "metadata": {},
   "outputs": [
    {
     "data": {
      "text/plain": [
       "'2.6.0'"
      ]
     },
     "execution_count": 1,
     "metadata": {},
     "output_type": "execute_result"
    }
   ],
   "source": [
    "import sqlite3\n",
    "sqlite3.__file__\n",
    "sqlite3.version"
   ]
  },
  {
   "cell_type": "code",
   "execution_count": 9,
   "metadata": {},
   "outputs": [
    {
     "data": {
      "text/html": [
       "<div>\n",
       "<style scoped>\n",
       "    .dataframe tbody tr th:only-of-type {\n",
       "        vertical-align: middle;\n",
       "    }\n",
       "\n",
       "    .dataframe tbody tr th {\n",
       "        vertical-align: top;\n",
       "    }\n",
       "\n",
       "    .dataframe thead th {\n",
       "        text-align: right;\n",
       "    }\n",
       "</style>\n",
       "<table border=\"1\" class=\"dataframe\">\n",
       "  <thead>\n",
       "    <tr style=\"text-align: right;\">\n",
       "      <th></th>\n",
       "      <th>name</th>\n",
       "      <th>power</th>\n",
       "      <th>anime</th>\n",
       "      <th>numbers</th>\n",
       "    </tr>\n",
       "  </thead>\n",
       "  <tbody>\n",
       "    <tr>\n",
       "      <th>0</th>\n",
       "      <td>goku</td>\n",
       "      <td>MUI</td>\n",
       "      <td>DBZ</td>\n",
       "      <td>1554.0</td>\n",
       "    </tr>\n",
       "    <tr>\n",
       "      <th>1</th>\n",
       "      <td>gohan</td>\n",
       "      <td>beast</td>\n",
       "      <td>DBZ</td>\n",
       "      <td>134564.0</td>\n",
       "    </tr>\n",
       "    <tr>\n",
       "      <th>2</th>\n",
       "      <td>vegeta</td>\n",
       "      <td>super saiyan blue</td>\n",
       "      <td>DBZ</td>\n",
       "      <td>48521.0</td>\n",
       "    </tr>\n",
       "    <tr>\n",
       "      <th>3</th>\n",
       "      <td>eren</td>\n",
       "      <td>titan</td>\n",
       "      <td>AOT</td>\n",
       "      <td>20013.0</td>\n",
       "    </tr>\n",
       "    <tr>\n",
       "      <th>4</th>\n",
       "      <td>naruto</td>\n",
       "      <td>nine tails</td>\n",
       "      <td>UZUMAKI</td>\n",
       "      <td>NaN</td>\n",
       "    </tr>\n",
       "    <tr>\n",
       "      <th>5</th>\n",
       "      <td>sasuke</td>\n",
       "      <td>sharingan</td>\n",
       "      <td>UCHIHA</td>\n",
       "      <td>96250.0</td>\n",
       "    </tr>\n",
       "  </tbody>\n",
       "</table>\n",
       "</div>"
      ],
      "text/plain": [
       "     name              power    anime   numbers\n",
       "0    goku                MUI      DBZ    1554.0\n",
       "1   gohan              beast      DBZ  134564.0\n",
       "2  vegeta  super saiyan blue      DBZ   48521.0\n",
       "3    eren              titan      AOT   20013.0\n",
       "4  naruto         nine tails  UZUMAKI       NaN\n",
       "5  sasuke          sharingan   UCHIHA   96250.0"
      ]
     },
     "execution_count": 9,
     "metadata": {},
     "output_type": "execute_result"
    }
   ],
   "source": [
    "import numpy as np\n",
    "dff[\"numbers\"] = [1554,134564,48521,20013,np.nan,96250]\n",
    "dff"
   ]
  },
  {
   "cell_type": "code",
   "execution_count": 10,
   "metadata": {},
   "outputs": [],
   "source": [
    "ord_code = [\"beast\", \"MUI\",\"super saiyan blue\",\"nine tails\", \"sharingan\", \"titan\"]"
   ]
  },
  {
   "cell_type": "code",
   "execution_count": 11,
   "metadata": {},
   "outputs": [],
   "source": [
    "from sklearn.preprocessing import OneHotEncoder\n",
    "from sklearn.preprocessing import OrdinalEncoder\n",
    "from sklearn.compose import ColumnTransformer\n",
    "from sklearn.impute import SimpleImputer \n",
    "from sklearn.pipeline import Pipeline\n",
    "from src.exception import CustomException\n",
    "import sys\n",
    "import os"
   ]
  },
  {
   "cell_type": "code",
   "execution_count": null,
   "metadata": {},
   "outputs": [],
   "source": [
    "def one_shot():\n",
    "\n",
    "    try:  \n",
    "        cat_features = [\"anime\"]\n",
    "        cat_imputer = Pipeline(steps=[\n",
    "            (\"cat_imputer\", SimpleImputer(strategy=\"constant\", fill_value=\"missing\")),\n",
    "            (\"One_Hot\", OneHotEncoder(handle_unknown=\"ignore\"))\n",
    "        ])\n",
    "\n",
    "        num_features = [\"numbers\"]\n",
    "        num_imputer = Pipeline(steps=[\n",
    "            (\"num_imputer\", SimpleImputer(strategy=\"median\"))\n",
    "        ])\n",
    "\n",
    "        ordinal_features = [\"power\"]\n",
    "        ordinal_imputer = Pipeline(steps=[\n",
    "            (\"Ordinal_imputer\", OrdinalEncoder(categories=ord_code))\n",
    "        ])\n",
    "\n",
    "        preprocessor = ColumnTransformer(transformers=[\n",
    "            (\"cat_imputer\", cat_imputer, cat_features),\n",
    "            (\"num_imputer\", num_imputer,num_features),\n",
    "            (\"Ordinal\", ordinal_imputer,ordinal_features)\n",
    "        ],remainder=\"passthrough\")\n",
    "\n",
    "        return preprocessor\n",
    "\n",
    "    except Exception as e:\n",
    "        raise CustomException(e,sys)\n",
    "\n"
   ]
  }
 ],
 "metadata": {
  "kernelspec": {
   "display_name": "Python 3",
   "language": "python",
   "name": "python3"
  },
  "language_info": {
   "codemirror_mode": {
    "name": "ipython",
    "version": 3
   },
   "file_extension": ".py",
   "mimetype": "text/x-python",
   "name": "python",
   "nbconvert_exporter": "python",
   "pygments_lexer": "ipython3",
   "version": "3.9.0"
  }
 },
 "nbformat": 4,
 "nbformat_minor": 2
}
